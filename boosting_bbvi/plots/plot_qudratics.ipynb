{
 "cells": [
  {
   "cell_type": "code",
   "execution_count": 1,
   "metadata": {},
   "outputs": [],
   "source": [
    "\"\"\"Plot quadratic functions with given lipschitz constant.\"\"\"\n",
    "\n",
    "import numpy as np\n",
    "from matplotlib import pyplot as plt\n",
    "\n",
    "from labellines import labelLine, labelLines"
   ]
  },
  {
   "cell_type": "code",
   "execution_count": 2,
   "metadata": {},
   "outputs": [],
   "source": [
    "x_min, x_max = (-1.6, 2.5)\n",
    "b = 7.5\n",
    "Y = 20\n"
   ]
  },
  {
   "cell_type": "code",
   "execution_count": 3,
   "metadata": {},
   "outputs": [],
   "source": [
    "def quadratic(x, L):\n",
    "    \"\"\"Quadratic function passing through (x1, y1) with\n",
    "    lipschitz continuous gradient L\"\"\"\n",
    "    y = Y + b * x + (L / 2.) * (x**2)\n",
    "    return y\n"
   ]
  },
  {
   "cell_type": "code",
   "execution_count": 4,
   "metadata": {},
   "outputs": [],
   "source": [
    "l_list = [0.1, 1.0, 5.0, 10.0, 20.0]\n",
    "colors = [\n",
    "    'royalblue', 'forestgreen', 'orangered', 'darkcyan', 'magenta',\n",
    "    'sienna', 'black'\n",
    "]\n",
    "x = np.linspace(x_min, x_max, 500)\n"
   ]
  },
  {
   "cell_type": "code",
   "execution_count": 5,
   "metadata": {},
   "outputs": [
    {
     "name": "stdout",
     "output_type": "stream",
     "text": [
      "min at -75.0000\n",
      "\n",
      "min at -7.5000\n",
      "\n",
      "min at -1.5000\n",
      "\n",
      "min at -0.7500\n",
      "\n",
      "min at -0.3750\n",
      "\n"
     ]
    },
    {
     "data": {
      "image/png": "[encoded data removed]",
      "text/plain": [
       "<Figure size 432x288 with 1 Axes>"
      ]
     },
     "metadata": {
      "needs_background": "light"
     },
     "output_type": "display_data"
    }
   ],
   "source": [
    "# plot curve\n",
    "for i, L in enumerate(l_list):\n",
    "    plt.plot(x, quadratic(x, L), label=str(L), color=colors[i])\n",
    "labelLines(plt.gca().get_lines(), zorder=2.5)\n",
    "\n",
    "# plot minima\n",
    "for i, L in enumerate(l_list):\n",
    "    x_ex = (-b / L)\n",
    "    #if x_ex > x_min: plt.axvline(x = x_ex, label=str(L))\n",
    "    if x_ex > x_min:\n",
    "        plt.plot([x_ex, x_ex],\n",
    "                 [Y + b * x_ex + (L / 2.) * (x_ex**2), 0],\n",
    "                 color=colors[i],\n",
    "                 linestyle='--',\n",
    "                 linewidth=1)\n",
    "    print('min at %.4f\\n' % x_ex)\n",
    "plt.ylim(bottom=0)\n",
    "plt.show()\n"
   ]
  },
  {
   "cell_type": "code",
   "execution_count": null,
   "metadata": {},
   "outputs": [],
   "source": []
  }
 ],
 "metadata": {
  "kernelspec": {
   "display_name": "Python 3",
   "language": "python",
   "name": "python3"
  },
  "language_info": {
   "codemirror_mode": {
    "name": "ipython",
    "version": 3
   },
   "file_extension": ".py",
   "mimetype": "text/x-python",
   "name": "python",
   "nbconvert_exporter": "python",
   "pygments_lexer": "ipython3",
   "version": "3.6.6"
  }
 },
 "nbformat": 4,
 "nbformat_minor": 2
}
